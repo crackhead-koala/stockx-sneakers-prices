{
 "cells": [
  {
   "cell_type": "code",
   "execution_count": 1,
   "metadata": {},
   "outputs": [],
   "source": [
    "import requests\n",
    "import json\n",
    "from urllib.parse import urlencode, quote_plus\n",
    "import random\n",
    "import pandas as pd\n",
    "from time import sleep\n",
    "from tqdm import tqdm"
   ]
  },
  {
   "cell_type": "markdown",
   "metadata": {},
   "source": [
    "StockX internal API:\n",
    "\n",
    "```\n",
    "https://stockx.com/api/products/5b85a42d-daed-44a8-b75e-42ec85fe41af/activity?state=480&currency=USD&limit=10&page=1&sort=createdAt&order=DESC&country=RU\n",
    "```"
   ]
  },
  {
   "cell_type": "code",
   "execution_count": 2,
   "metadata": {},
   "outputs": [],
   "source": [
    "def get_item_uuids(data_path='../data pages.csv'):\n",
    "    return list(set(pd.read_csv(data_path)['uuid'].tolist()))"
   ]
  },
  {
   "cell_type": "code",
   "execution_count": 3,
   "metadata": {},
   "outputs": [],
   "source": [
    "BASE_API_URL = 'https://stockx.com/api/products/'\n",
    "DATA_LOC = '/activity?'\n",
    "\n",
    "params = {\n",
    "    'state': 480,\n",
    "    'currency': 'USD'\n",
    "    # 'limit': 10,\n",
    "    # 'page': 1\n",
    "    # 'sort': 'createdAt',\n",
    "    # 'order': 'DESC',\n",
    "    # 'country': 'RU'\n",
    "}\n",
    "\n",
    "with open('./user-agents.json', 'r', encoding='utf-8') as f:\n",
    "    headers = json.load(f)\n",
    "\n",
    "def get_sales_data_for_item(uuid):\n",
    "    sleep_time = 5\n",
    "    while True:\n",
    "        resp = requests.get(BASE_API_URL + uuid + DATA_LOC +\n",
    "                                urlencode(params, quote_via=quote_plus),\n",
    "                            headers=random.choice(headers))\n",
    "        \n",
    "        if resp.status_code == 200:\n",
    "            return resp.json()\n",
    "        \n",
    "        sleep(sleep_time)\n",
    "        sleep_time *= 2"
   ]
  },
  {
   "cell_type": "code",
   "execution_count": 4,
   "metadata": {},
   "outputs": [],
   "source": [
    "def get_all_sales_data(uuids: list):\n",
    "    with open('./saved/done.json', 'r') as f:\n",
    "        done = json.load(f)\n",
    "    uuids = [ uuid for uuid in uuids if uuid not in done ]\n",
    "    \n",
    "    for uuid in tqdm(uuids, ncols=100):\n",
    "        parsed_data = get_sales_data_for_item(uuid)\n",
    "        temp_df = pd.DataFrame(parsed_data)\n",
    "        temp_df.to_csv(f'./saved/{uuid}.csv')\n",
    "        done.append(uuid)\n",
    "        \n",
    "        with open('./saved/done.json', 'w') as f:\n",
    "            json.dump(done, f)\n",
    "        \n",
    "        sleep(5)\n",
    "    \n",
    "    print('All done')"
   ]
  },
  {
   "cell_type": "code",
   "execution_count": 5,
   "metadata": {
    "scrolled": false
   },
   "outputs": [
    {
     "name": "stderr",
     "output_type": "stream",
     "text": [
      "  0%|                                                          | 1/20878 [00:06<36:59:27,  6.38s/it]\n"
     ]
    },
    {
     "ename": "KeyboardInterrupt",
     "evalue": "",
     "output_type": "error",
     "traceback": [
      "\u001b[0;31m---------------------------------------------------------------------------\u001b[0m",
      "\u001b[0;31mKeyboardInterrupt\u001b[0m                         Traceback (most recent call last)",
      "\u001b[0;32m<ipython-input-5-529b4f564f85>\u001b[0m in \u001b[0;36m<module>\u001b[0;34m\u001b[0m\n\u001b[1;32m      1\u001b[0m \u001b[0mitems\u001b[0m \u001b[0;34m=\u001b[0m \u001b[0mget_item_uuids\u001b[0m\u001b[0;34m(\u001b[0m\u001b[0;34m'./data pages.csv'\u001b[0m\u001b[0;34m)\u001b[0m\u001b[0;34m\u001b[0m\u001b[0;34m\u001b[0m\u001b[0m\n\u001b[0;32m----> 2\u001b[0;31m \u001b[0mget_all_sales_data\u001b[0m\u001b[0;34m(\u001b[0m\u001b[0mitems\u001b[0m\u001b[0;34m)\u001b[0m\u001b[0;34m\u001b[0m\u001b[0;34m\u001b[0m\u001b[0m\n\u001b[0m",
      "\u001b[0;32m<ipython-input-4-a3e47c25ba1f>\u001b[0m in \u001b[0;36mget_all_sales_data\u001b[0;34m(uuids)\u001b[0m\n\u001b[1;32m     13\u001b[0m             \u001b[0mjson\u001b[0m\u001b[0;34m.\u001b[0m\u001b[0mdump\u001b[0m\u001b[0;34m(\u001b[0m\u001b[0mdone\u001b[0m\u001b[0;34m,\u001b[0m \u001b[0mf\u001b[0m\u001b[0;34m)\u001b[0m\u001b[0;34m\u001b[0m\u001b[0;34m\u001b[0m\u001b[0m\n\u001b[1;32m     14\u001b[0m \u001b[0;34m\u001b[0m\u001b[0m\n\u001b[0;32m---> 15\u001b[0;31m         \u001b[0msleep\u001b[0m\u001b[0;34m(\u001b[0m\u001b[0;36m5\u001b[0m\u001b[0;34m)\u001b[0m\u001b[0;34m\u001b[0m\u001b[0;34m\u001b[0m\u001b[0m\n\u001b[0m\u001b[1;32m     16\u001b[0m \u001b[0;34m\u001b[0m\u001b[0m\n\u001b[1;32m     17\u001b[0m     \u001b[0mprint\u001b[0m\u001b[0;34m(\u001b[0m\u001b[0;34m'All done'\u001b[0m\u001b[0;34m)\u001b[0m\u001b[0;34m\u001b[0m\u001b[0;34m\u001b[0m\u001b[0m\n",
      "\u001b[0;31mKeyboardInterrupt\u001b[0m: "
     ]
    }
   ],
   "source": [
    "items = get_item_uuids('./data pages.csv')\n",
    "get_all_sales_data(items)"
   ]
  }
 ],
 "metadata": {
  "kernelspec": {
   "display_name": "Python 3",
   "language": "python",
   "name": "python3"
  },
  "language_info": {
   "codemirror_mode": {
    "name": "ipython",
    "version": 3
   },
   "file_extension": ".py",
   "mimetype": "text/x-python",
   "name": "python",
   "nbconvert_exporter": "python",
   "pygments_lexer": "ipython3",
   "version": "3.8.5"
  }
 },
 "nbformat": 4,
 "nbformat_minor": 4
}
